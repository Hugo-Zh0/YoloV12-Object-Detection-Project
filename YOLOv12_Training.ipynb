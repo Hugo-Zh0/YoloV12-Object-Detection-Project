{
  "cells": [
    {
      "cell_type": "markdown",
      "metadata": {
        "id": "view-in-github",
        "colab_type": "text"
      },
      "source": [
        "<a href=\"https://colab.research.google.com/github/Hugo-Zh0/YoloV12-Object-Detection-Project/blob/main/YOLOv12_Training.ipynb\" target=\"_parent\"><img src=\"https://colab.research.google.com/assets/colab-badge.svg\" alt=\"Open In Colab\"/></a>"
      ]
    },
    {
      "cell_type": "markdown",
      "id": "980016c5",
      "metadata": {
        "id": "980016c5"
      },
      "source": [
        "\n",
        "# 🚀 YOLOv12 Object Detection Project\n",
        "\n",
        "[![Python](https://img.shields.io/badge/Python-3.10%2B-blue.svg)](https://www.python.org/downloads/)\n",
        "[![Anaconda](https://img.shields.io/badge/Anaconda-Navigator-green.svg)](https://www.anaconda.com/download)\n",
        "[![VS Code](https://img.shields.io/badge/Editor-VS%20Code-blue.svg)](https://code.visualstudio.com/)\n",
        "[![Ultralytics](https://img.shields.io/badge/YOLOv12-Ultralytics-yellow.svg)](https://github.com/ultralytics/ultralytics)\n",
        "[![License](https://img.shields.io/badge/License-MIT-lightgrey.svg)](LICENSE)\n",
        "\n",
        "---\n",
        "<br>\n",
        "\n",
        "## 📌 Overview\n",
        "A **collaborative group project** by Swinburne University students in partnership with **CSIRO**.  \n",
        "This repository contains the setup, configuration, and workflow for training and running **YOLOv12** object detection models.\n",
        "\n",
        "**👨‍💻 Team Members:** Harron, Feng, Bunmi, Huss, Hugo.\n",
        "\n",
        "---\n",
        "**Repo:** `Hugo-Zh0/YoloV12-Object-Detection-Project`  \n",
        "**What you’ll do:**\n",
        "1. Check runtime & GPU\n",
        "2. Install dependencies\n",
        "3. Clone your repo\n",
        "4. Set paths in repository\n",
        "5. Train\n",
        "6. Validate\n",
        "7. Predict\n",
        "8. Export\n",
        "10. Troubleshoot\n"
      ]
    },
    {
      "cell_type": "markdown",
      "id": "24e32974",
      "metadata": {
        "id": "24e32974"
      },
      "source": [
        "## Step 1 — 🚀 Runtime & GPU check"
      ]
    },
    {
      "cell_type": "code",
      "execution_count": 1,
      "id": "ada53746",
      "metadata": {
        "id": "ada53746",
        "colab": {
          "base_uri": "https://localhost:8080/"
        },
        "outputId": "e0d40387-cbf8-4cf7-abb0-314b87022671"
      },
      "outputs": [
        {
          "output_type": "stream",
          "name": "stdout",
          "text": [
            "Python: 3.12.11 (main, Jun  4 2025, 08:56:18) [GCC 11.4.0]\n",
            "Platform: Linux-6.1.123+-x86_64-with-glibc2.35\n",
            "PyTorch: 2.8.0+cu126\n",
            "CUDA available: False\n"
          ]
        }
      ],
      "source": [
        "\n",
        "#@title Check Python, CUDA, and PyTorch\n",
        "import sys, platform\n",
        "print(\"Python:\", sys.version)\n",
        "print(\"Platform:\", platform.platform())\n",
        "try:\n",
        "    import torch\n",
        "    print(\"PyTorch:\", torch.__version__)\n",
        "    print(\"CUDA available:\", torch.cuda.is_available())\n",
        "    if torch.cuda.is_available():\n",
        "        print(\"CUDA device:\", torch.cuda.get_device_name(0))\n",
        "except Exception as e:\n",
        "    print(\"PyTorch not installed yet (will install in next step).\")\n"
      ]
    },
    {
      "cell_type": "markdown",
      "id": "d0cbf86a",
      "metadata": {
        "id": "d0cbf86a"
      },
      "source": [
        "## Step 2 — ⬇️ Install dependencies"
      ]
    },
    {
      "cell_type": "code",
      "execution_count": null,
      "id": "7d0d0331",
      "metadata": {
        "id": "7d0d0331"
      },
      "outputs": [],
      "source": [
        "\n",
        "#@title Install Ultralytics & helpers\n",
        "!pip -q install --upgrade pip\n",
        "!pip -q install ultralytics==8.3.50 onnx onnxruntime opencv-python tqdm pyyaml rich\n",
        "\n",
        "import torch, cv2, ultralytics\n",
        "print(\"Ultralytics:\", ultralytics.__version__)\n",
        "print(\"Torch:\", torch.__version__, \"| CUDA:\", torch.cuda.is_available())\n",
        "print(\"OpenCV:\", cv2.__version__)\n"
      ]
    },
    {
      "cell_type": "markdown",
      "id": "66a3d181",
      "metadata": {
        "id": "66a3d181"
      },
      "source": [
        "## Step 3 —  🤖 Clone your repository"
      ]
    },
    {
      "cell_type": "code",
      "execution_count": null,
      "id": "bc02da07",
      "metadata": {
        "id": "bc02da07"
      },
      "outputs": [],
      "source": [
        "\n",
        "#@title Clone repo\n",
        "REPO_URL = \"https://github.com/Hugo-Zh0/YoloV12-Object-Detection-Project\"\n",
        "REPO_DIR = \"/content/YoloV12-Object-Detection-Project\"\n",
        "\n",
        "import shutil, os, pathlib\n",
        "if os.path.isdir(REPO_DIR):\n",
        "    shutil.rmtree(REPO_DIR)\n",
        "\n",
        "!git clone -q {REPO_URL} {REPO_DIR}\n",
        "print(\"Cloned into:\", REPO_DIR)\n"
      ]
    },
    {
      "cell_type": "markdown",
      "id": "0c20f512",
      "metadata": {
        "id": "0c20f512"
      },
      "source": [
        "## Step 4 — 🎞️ Set model & data paths"
      ]
    },
    {
      "cell_type": "code",
      "execution_count": null,
      "id": "6d81ddce",
      "metadata": {
        "id": "6d81ddce"
      },
      "outputs": [],
      "source": [
        "\n",
        "#@title Define paths (auto-assumes YOLOv12 layout in your repo)\n",
        "from pathlib import Path\n",
        "import yaml\n",
        "\n",
        "REPO_DIR = Path(\"/content/YoloV12-Object-Detection-Project\")\n",
        "MODEL_PATH = REPO_DIR / \"models\" / \"yolov12s.pt\"\n",
        "DATA_YAML  = REPO_DIR / \"yaml\" / \"data.yaml\"\n",
        "\n",
        "print(\"MODEL_PATH:\", MODEL_PATH)\n",
        "print(\"DATA_YAML :\", DATA_YAML)\n",
        "\n",
        "assert MODEL_PATH.exists(), f\"Missing model weights at {MODEL_PATH}\"\n",
        "assert DATA_YAML.exists(),  f\"Missing data yaml at {DATA_YAML}\"\n",
        "\n",
        "with open(DATA_YAML, \"r\") as f:\n",
        "    y = yaml.safe_load(f)\n",
        "print(\"\\nYAML keys:\", list(y.keys()))\n",
        "print(\"YAML preview:\", {k: y.get(k) for k in [\"path\", \"train\", \"val\", \"names\"]})\n"
      ]
    },
    {
      "cell_type": "markdown",
      "id": "b513b46d",
      "metadata": {
        "id": "b513b46d"
      },
      "source": [
        "## Step 5 — 💥 Train (set your parameters)"
      ]
    },
    {
      "cell_type": "code",
      "execution_count": null,
      "id": "11cd1e01",
      "metadata": {
        "id": "11cd1e01"
      },
      "outputs": [],
      "source": [
        "\n",
        "#@title Train YOLOv12\n",
        "#@markdown Adjust the 5 core knobs below\n",
        "epochs  = 100  #@param {type:\"integer\"}\n",
        "imgsz   = 960  #@param {type:\"integer\"}\n",
        "batch   = 8    #@param {type:\"integer\"}\n",
        "device  = \"cuda\" if __import__(\"torch\").cuda.is_available() else \"cpu\"  #@param [\"cuda\", \"cpu\"] {allow-input: true}\n",
        "\n",
        "from ultralytics import YOLO\n",
        "print(f\"Using device: {device}\")\n",
        "model = YOLO(str(MODEL_PATH))\n",
        "results = model.train(\n",
        "    data=str(DATA_YAML),\n",
        "    epochs=epochs,\n",
        "    imgsz=imgsz,\n",
        "    batch=batch,\n",
        "    device=device\n",
        ")\n",
        "print(\"Training done. Save dir:\", getattr(results, \"save_dir\", \"Check /content/runs/train\"))\n"
      ]
    },
    {
      "cell_type": "markdown",
      "id": "68932001",
      "metadata": {
        "id": "68932001"
      },
      "source": [
        "## Step 6 — ✅ Validate best model"
      ]
    },
    {
      "cell_type": "code",
      "execution_count": null,
      "id": "4f59c93e",
      "metadata": {
        "id": "4f59c93e"
      },
      "outputs": [],
      "source": [
        "\n",
        "#@title Validate best.pt\n",
        "from pathlib import Path\n",
        "from ultralytics import YOLO\n",
        "\n",
        "RUNS_DIR = Path(\"/content/runs/train\")\n",
        "assert RUNS_DIR.exists(), \"No training runs found. Train first.\"\n",
        "\n",
        "latest = sorted(RUNS_DIR.glob(\"**/\"), key=lambda p: p.stat().st_mtime)[-1]\n",
        "best = latest / \"weights\" / \"best.pt\"\n",
        "print(\"Using:\", best)\n",
        "assert best.exists(), f\"Missing best.pt in {latest}/weights\"\n",
        "\n",
        "model = YOLO(str(best))\n",
        "metrics = model.val(data=str(DATA_YAML), imgsz=960, device=\"cuda\" if __import__(\"torch\").cuda.is_available() else \"cpu\")\n",
        "print(metrics)\n"
      ]
    },
    {
      "cell_type": "markdown",
      "id": "b9401666",
      "metadata": {
        "id": "b9401666"
      },
      "source": [
        "## Step 7 — 🔮 Predict (images)"
      ]
    },
    {
      "cell_type": "code",
      "execution_count": null,
      "id": "9ea59f46",
      "metadata": {
        "id": "9ea59f46"
      },
      "outputs": [],
      "source": [
        "\n",
        "#@title Upload images and predict\n",
        "from google.colab import files\n",
        "from ultralytics import YOLO\n",
        "from pathlib import Path\n",
        "import torch\n",
        "\n",
        "uploaded = files.upload()\n",
        "img_paths = list(uploaded.keys())\n",
        "print(\"Uploaded:\", img_paths)\n",
        "\n",
        "# choose model: latest best or repo weights\n",
        "RUNS_DIR = Path(\"/content/runs/train\")\n",
        "best_path = None\n",
        "if RUNS_DIR.exists():\n",
        "    cands = sorted(RUNS_DIR.glob(\"**/weights/best.pt\"), key=lambda p: p.stat().st_mtime)\n",
        "    if cands:\n",
        "        best_path = str(cands[-1])\n",
        "model_path = best_path if best_path else str(Path(\"/content/YoloV12-Object-Detection-Project\") / \"models\" / \"yolov12s.pt\")\n",
        "\n",
        "model = YOLO(model_path)\n",
        "pred = model.predict(source=img_paths, imgsz=960, device=\"cuda\" if torch.cuda.is_available() else \"cpu\", save=True)\n",
        "print(\"Saved to:\", pred[0].save_dir if isinstance(pred, list) and pred else \"Check /content/runs/predict\")\n"
      ]
    },
    {
      "cell_type": "markdown",
      "id": "1d323b1e",
      "metadata": {
        "id": "1d323b1e"
      },
      "source": [
        "## Step 8 — 📺 Predict (video)"
      ]
    },
    {
      "cell_type": "code",
      "execution_count": null,
      "id": "57c872d2",
      "metadata": {
        "id": "57c872d2"
      },
      "outputs": [],
      "source": [
        "\n",
        "#@title Predict on a video (URL or upload)\n",
        "video_url = \"\"  #@param {type:\"string\"}\n",
        "\n",
        "import urllib.request, os\n",
        "from google.colab import files\n",
        "from ultralytics import YOLO\n",
        "from pathlib import Path\n",
        "import torch\n",
        "\n",
        "src = None\n",
        "if video_url.strip():\n",
        "    src = \"/content/input_video.mp4\"\n",
        "    try:\n",
        "        urllib.request.urlretrieve(video_url, src)\n",
        "        print(\"Downloaded:\", src)\n",
        "    except Exception as e:\n",
        "        print(\"Failed to download:\", e)\n",
        "        src = None\n",
        "\n",
        "if not src:\n",
        "    up = files.upload()\n",
        "    if up:\n",
        "        src = list(up.keys())[0]\n",
        "        print(\"Uploaded:\", src)\n",
        "\n",
        "assert src, \"No video provided.\"\n",
        "\n",
        "RUNS_DIR = Path(\"/content/runs/train\")\n",
        "best_path = None\n",
        "if RUNS_DIR.exists():\n",
        "    cands = sorted(RUNS_DIR.glob(\"**/weights/best.pt\"), key=lambda p: p.stat().st_mtime)\n",
        "    if cands:\n",
        "        best_path = str(cands[-1])\n",
        "model_path = best_path if best_path else str(Path(\"/content/YoloV12-Object-Detection-Project\") / \"models\" / \"yolov12s.pt\")\n",
        "\n",
        "model = YOLO(model_path)\n",
        "pred = model.predict(source=src, imgsz=960, device=\"cuda\" if torch.cuda.is_available() else \"cpu\", save=True)\n",
        "print(\"Video predictions saved to:\", pred[0].save_dir if isinstance(pred, list) and pred else \"Check /content/runs/predict\")\n"
      ]
    },
    {
      "cell_type": "markdown",
      "id": "c7247239",
      "metadata": {
        "id": "c7247239"
      },
      "source": [
        "## Step 9 — ♟️ Exporting"
      ]
    },
    {
      "cell_type": "code",
      "execution_count": null,
      "id": "f67cee5d",
      "metadata": {
        "id": "f67cee5d"
      },
      "outputs": [],
      "source": [
        "## Nothing here yet"
      ]
    },
    {
      "cell_type": "markdown",
      "id": "00b4bd4d",
      "metadata": {
        "id": "00b4bd4d"
      },
      "source": [
        "## Troubleshooting"
      ]
    },
    {
      "cell_type": "markdown",
      "id": "35f7a69d",
      "metadata": {
        "id": "35f7a69d"
      },
      "source": [
        "\n",
        "- **Weights YAML missing:** ensure `models/yolov12s.pt` and `yaml/data.yaml` exist in the repo or update paths.\n",
        "- **No GPU:** Colab may not offer a GPU; the notebook will use CPU (much slower).\n",
        "- **Val fails:** Train first; then rerun the validate cell.\n",
        "- **Poor metrics:** Add more data, correct labels, tune `imgsz`/`batch`/`epochs`.\n"
      ]
    }
  ],
  "metadata": {
    "colab": {
      "provenance": [],
      "gpuType": "T4",
      "include_colab_link": true
    },
    "language_info": {
      "name": "python"
    },
    "kernelspec": {
      "name": "python3",
      "display_name": "Python 3"
    },
    "accelerator": "GPU"
  },
  "nbformat": 4,
  "nbformat_minor": 5
}