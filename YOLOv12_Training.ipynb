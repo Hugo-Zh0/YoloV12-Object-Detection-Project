{
  "cells": [
    {
      "cell_type": "markdown",
      "metadata": {
        "id": "view-in-github",
        "colab_type": "text"
      },
      "source": [
        "<a href=\"https://colab.research.google.com/github/Hugo-Zh0/YoloV12-Object-Detection-Project/blob/main/YOLOv12_Training.ipynb\" target=\"_parent\"><img src=\"https://colab.research.google.com/assets/colab-badge.svg\" alt=\"Open In Colab\"/></a>"
      ]
    },
    {
      "cell_type": "markdown",
      "id": "980016c5",
      "metadata": {
        "id": "980016c5"
      },
      "source": [
        "\n",
        "# 🚀 YOLOv12 Object Detection Project\n",
        "\n",
        "[![Python](https://img.shields.io/badge/Python-3.10%2B-blue.svg)](https://www.python.org/downloads/)\n",
        "[![Anaconda](https://img.shields.io/badge/Anaconda-Navigator-green.svg)](https://www.anaconda.com/download)\n",
        "[![VS Code](https://img.shields.io/badge/Editor-VS%20Code-blue.svg)](https://code.visualstudio.com/)\n",
        "[![Ultralytics](https://img.shields.io/badge/YOLOv12-Ultralytics-yellow.svg)](https://github.com/ultralytics/ultralytics)\n",
        "[![License](https://img.shields.io/badge/License-MIT-lightgrey.svg)](LICENSE)\n",
        "\n",
        "---\n",
        "<br>\n",
        "\n",
        "## 📌 Overview\n",
        "A **collaborative group project** by Swinburne University students in partnership with **CSIRO**.  \n",
        "This repository contains the setup, configuration, and workflow for training and running **YOLOv12** object detection models.\n",
        "\n",
        "**👨‍💻 Team Members:** Harron, Feng, Bunmi, Huss, Hugo.\n",
        "\n",
        "---\n",
        "**Repo:** `Hugo-Zh0/YoloV12-Object-Detection-Project`  \n",
        "**What you’ll do:**\n",
        "1. Check runtime & GPU\n",
        "2. Install dependencies\n",
        "3. Clone your repo\n",
        "4. Set paths in repository\n",
        "5. Train\n",
        "6. Validate\n",
        "7. Predict\n",
        "8. Export\n",
        "10. Troubleshoot\n",
        "\n",
        "<br>\n",
        "\n",
        "#### **Full Process Run Through**\n",
        "\n",
        "Process 1: Train > Validate > Inference > (repeat steps) to get multiple models with different results\n",
        "\n",
        "Processs 2: Run Final Model > Gets Final Model > Run Full Test\n",
        "\n",
        "Process 3: Final Model > Export Model (for deployment)\n",
        "\n",
        "<br>\n",
        "\n",
        "#### **What to do after completion or if you don't want to run anymore**\n",
        "\n",
        "After completing this colab you will need to export the folders(step 9) which includes the repository and runs, as the runtime session will expire when you close the website **(meaning the folders gets deleted)**.\n",
        "\n",
        "<br>\n",
        "\n",
        "#### **Starting from previous session**\n",
        "\n",
        "If you are rerunning this agin, you will need to manually upload the folders back into the google colab again (it has to be zipped up first to be uploaded)\n",
        "Then you will need to run script to extract the folders back to original state.\n",
        "\n",
        "From there you can start from Step 1,2,5,6,7,8 (excludes 3-4 as no need to clone repository and setting paths again)"
      ]
    },
    {
      "cell_type": "markdown",
      "id": "24e32974",
      "metadata": {
        "id": "24e32974"
      },
      "source": [
        "## **Step 1 — 🚀 Runtime & GPU check**"
      ]
    },
    {
      "cell_type": "markdown",
      "source": [
        "## **Prerequistes**\n",
        "*   Change runtime type to T4-GPU\n",
        "*   Change runtime to Python 3\n",
        "*   Have your dataset already downloaded\n",
        "\n",
        "\n",
        "\n",
        "\n",
        "\n"
      ],
      "metadata": {
        "id": "AWLh059BB0LN"
      },
      "id": "AWLh059BB0LN"
    },
    {
      "cell_type": "code",
      "execution_count": null,
      "id": "ada53746",
      "metadata": {
        "id": "ada53746",
        "collapsed": true
      },
      "outputs": [],
      "source": [
        "#@title Check Python, CUDA, and PyTorch (Checks if runtime is all correct)\n",
        "\n",
        "import sys, platform\n",
        "print(\"Python:\", sys.version)\n",
        "print(\"Platform:\", platform.platform())\n",
        "try:\n",
        "    import torch\n",
        "    print(\"PyTorch:\", torch.__version__)\n",
        "    print(\"CUDA available:\", torch.cuda.is_available())\n",
        "    if torch.cuda.is_available():\n",
        "        print(\"CUDA device:\", torch.cuda.get_device_name(0))\n",
        "except Exception as e:\n",
        "    print(\"PyTorch not installed yet (will install in next step).\")"
      ]
    },
    {
      "cell_type": "markdown",
      "id": "d0cbf86a",
      "metadata": {
        "id": "d0cbf86a"
      },
      "source": [
        "## Step 2 — ⬇️ Install dependencies\n",
        "\n",
        "These are the python libraries and Ultralytics libraries needed to run the framework"
      ]
    },
    {
      "cell_type": "code",
      "execution_count": null,
      "id": "7d0d0331",
      "metadata": {
        "id": "7d0d0331",
        "collapsed": true
      },
      "outputs": [],
      "source": [
        "#@title Install Ultralytics & helpers\n",
        "\n",
        "!pip install ultralytics\n",
        "\n",
        "import torch, cv2, ultralytics\n",
        "print(\"Ultralytics:\", ultralytics.__version__)\n",
        "print(\"Torch:\", torch.__version__, \"| CUDA:\", torch.cuda.is_available())\n",
        "print(\"OpenCV:\", cv2.__version__)"
      ]
    },
    {
      "cell_type": "markdown",
      "id": "66a3d181",
      "metadata": {
        "id": "66a3d181"
      },
      "source": [
        "## Step 3 —  🤖 Clone your repository\n",
        "\n",
        "Grabs our repository which contains our folder structure/files and folders to get started with our training\n",
        "\n",
        "**(if you already have a saved repository in google drive you can skip cloning anad use the Import Via Google Drive Script)**"
      ]
    },
    {
      "cell_type": "code",
      "execution_count": null,
      "id": "bc02da07",
      "metadata": {
        "id": "bc02da07"
      },
      "outputs": [],
      "source": [
        "#@title Clone repository from github & allow user to upload dataset zip file (use this if you are running it for the first time)\n",
        "\n",
        "REPO_URL = \"https://github.com/Hugo-Zh0/YoloV12-Object-Detection-Project\"\n",
        "REPO_DIR = \"/content/YoloV12-Object-Detection-Project\"\n",
        "\n",
        "import shutil, os\n",
        "from google.colab import files\n",
        "\n",
        "# Remove existing repo directory if it exists\n",
        "if os.path.isdir(REPO_DIR):\n",
        "    shutil.rmtree(REPO_DIR)\n",
        "\n",
        "# Clone the repo\n",
        "!git clone -q {REPO_URL} {REPO_DIR}\n",
        "print(\"Cloned into:\", REPO_DIR)\n",
        "\n",
        "# Prompt user to upload dataset ZIP file\n",
        "print(\"lease upload your dataset ZIP file. It will be saved to /content\")\n",
        "uploaded = files.upload()\n",
        "\n",
        "# Save uploaded ZIP file to /content\n",
        "for filename in uploaded.keys():\n",
        "    dest_path = os.path.join('/content', filename)\n",
        "    print(f\"Uploaded file saved as: {dest_path}\")"
      ]
    },
    {
      "cell_type": "code",
      "source": [
        "#@title Import via Google Drive (import your repository) or (dataset) if you have not already trained before\n",
        "\n",
        "from google.colab import drive\n",
        "import shutil\n",
        "import os\n",
        "\n",
        "# Step 1: Mount Google Drive\n",
        "drive.mount('/content/drive')\n",
        "\n",
        "# Step 2: Define source and destination paths\n",
        "source_path = '/content/drive/MyDrive/YoloV12-Object-Detection-Project.zip'  # Update as needed\n",
        "destination_path = '/content'\n",
        "\n",
        "# Step 3: Copy from Drive to Colab root\n",
        "if os.path.isdir(source_path):\n",
        "    shutil.copytree(source_path, destination_path)\n",
        "    print(f\"Folder copied to {destination_path}\")\n",
        "elif os.path.isfile(source_path):\n",
        "    shutil.copy2(source_path, destination_path)\n",
        "    print(f\"File copied to {destination_path}\")\n",
        "else:\n",
        "    print(\"Source path not found. Please check the path and try again.\")\n",
        "\n",
        "# Step 4: Unmount Google Drive and clean up\n",
        "drive.flush_and_unmount()\n",
        "shutil.rmtree('/content/drive', ignore_errors=True)\n",
        "print(\"Google Drive unmounted and cleaned up.\")"
      ],
      "metadata": {
        "id": "O7bwznQhlsjd"
      },
      "id": "O7bwznQhlsjd",
      "execution_count": null,
      "outputs": []
    },
    {
      "cell_type": "code",
      "source": [
        "#@title Unzip Respository\n",
        "!unzip -q /content/YoloV12-Object-Detection-Project.zip -d /content/YoloV12-Object-Detection-Project\n",
        "!unzip -q /content/runs.zip -d /content/runs"
      ],
      "metadata": {
        "id": "tOlK969wrN2R"
      },
      "id": "tOlK969wrN2R",
      "execution_count": 8,
      "outputs": []
    },
    {
      "cell_type": "markdown",
      "source": [
        "# 3.1 - Creating folders\n",
        "\n",
        "**(Skip this step if you already have imported a previous repository from google drive)**\n",
        "\n",
        "Datasets Folder: Contains our datasets from roboflow\n",
        "\n",
        "\n",
        "Yaml Folder: Contains our data.yaml file from our dataset\n"
      ],
      "metadata": {
        "id": "XHIlM3roXAfi"
      },
      "id": "XHIlM3roXAfi"
    },
    {
      "cell_type": "code",
      "source": [
        "#@title Creates two folders called \"datasets & yaml\" in the repository\n",
        "import os\n",
        "target_directory = '/content/YoloV12-Object-Detection-Project'\n",
        "\n",
        "folders_to_create = ['datasets', 'yaml']\n",
        "\n",
        "for folder_name in folders_to_create:\n",
        "    folder_path = os.path.join(target_directory, folder_name)\n",
        "    os.makedirs(folder_path, exist_ok=True)\n",
        "    print(f\"Created folder: {folder_path}\")"
      ],
      "metadata": {
        "id": "01uMXQv5srEd"
      },
      "id": "01uMXQv5srEd",
      "execution_count": null,
      "outputs": []
    },
    {
      "cell_type": "markdown",
      "source": [
        "# 3.2 Unzipping Datasets\n",
        "\n",
        "You should already have your datasets uploaded into the google colab. Via cloning the repo with uploading steps or through Google Drive.\n",
        "\n",
        "Next we will need to run the scripts below to unzip and move them into the correct directory"
      ],
      "metadata": {
        "id": "WV8I3q6gta39"
      },
      "id": "WV8I3q6gta39"
    },
    {
      "cell_type": "code",
      "source": [
        "#@title Unzip Koala Dataset\n",
        "!unzip -q /content/koala.zip -d /content/YoloV12-Object-Detection-Project/datasets"
      ],
      "metadata": {
        "id": "tDtJIaVqnqp4"
      },
      "id": "tDtJIaVqnqp4",
      "execution_count": null,
      "outputs": []
    },
    {
      "cell_type": "code",
      "source": [
        "#@title Unzip Kangaroo Dataset\n",
        "!unzip -q /content/kangaroo.zip -d /content/YoloV12-Object-Detection-Project/datasets"
      ],
      "metadata": {
        "id": "nwxjwKWrrbbE"
      },
      "id": "nwxjwKWrrbbE",
      "execution_count": null,
      "outputs": []
    },
    {
      "cell_type": "markdown",
      "id": "0c20f512",
      "metadata": {
        "id": "0c20f512"
      },
      "source": [
        "## Step 4 — 🎞️ Set model & data paths"
      ]
    },
    {
      "cell_type": "markdown",
      "source": [
        "**Step 4.1**\n",
        "\n",
        "Manually move YAML File stored in extracted dataset folder to previously created YAML Folder."
      ],
      "metadata": {
        "id": "-6szwNbvFeF4"
      },
      "id": "-6szwNbvFeF4"
    },
    {
      "cell_type": "code",
      "source": [
        "import shutil\n",
        "import os\n",
        "\n",
        "# Comment out the path you are not using\n",
        "source_path = '/content/YoloV12-Object-Detection-Project/datasets/koala'\n",
        "source_path = '/content/YoloV12-Object-Detection-Project/datasets/kangaroo'\n",
        "destination_dir = '/content/YoloV12-Object-Detection-Project/yaml'\n",
        "\n",
        "\n",
        "os.makedirs(destination_dir, exist_ok=True)\n",
        "\n",
        "destination_path = os.path.join(destination_dir, os.path.basename(source_path))\n",
        "shutil.move(source_path, destination_path)\n",
        "\n",
        "print(f\"File moved to: {destination_path}\")"
      ],
      "metadata": {
        "id": "k8J9B92yxeOQ"
      },
      "id": "k8J9B92yxeOQ",
      "execution_count": null,
      "outputs": []
    },
    {
      "cell_type": "markdown",
      "source": [
        "**Step 4.2**\n",
        "\n",
        "Update the YAML File with proper location paths for: train, val, test\n",
        "\n",
        "Double click the yaml file and it will open on the side.\n",
        "\n",
        "**Koala:**\n",
        "\n",
        "* /content/YoloV12-Object-Detection-Project/datasets/koala/train/images\n",
        "* /content/YoloV12-Object-Detection-Project/datasets/koala/valid/images\n",
        "* /content/YoloV12-Object-Detection-Project/datasets/koala/test/images\n",
        "\n",
        "\n",
        "**Kangaroo:**\n",
        "\n",
        "* /content/YoloV12-Object-Detection-Project/datasets/kangaroo/train/images\n",
        "* /content/YoloV12-Object-Detection-Project/datasets/kangaroo/valid/images\n",
        "* /content/YoloV12-Object-Detection-Project/datasets/kangaroo/test/images\n",
        "\n",
        "<br>\n",
        "\n",
        "Finally save the file doing Ctrl+S"
      ],
      "metadata": {
        "id": "_hWZ-cXcTWxo"
      },
      "id": "_hWZ-cXcTWxo"
    },
    {
      "cell_type": "markdown",
      "id": "b513b46d",
      "metadata": {
        "id": "b513b46d"
      },
      "source": [
        "## Step 5 — 💥 Train (set your parameters)\n",
        "\n",
        "This script will train your dataset and store them in the respoitory locations.\n",
        "You can also set the configs you want to train your dataset, tune it however you like to get the best performance."
      ]
    },
    {
      "cell_type": "code",
      "execution_count": null,
      "id": "11cd1e01",
      "metadata": {
        "id": "11cd1e01"
      },
      "outputs": [],
      "source": [
        "#@title Set Configs and train datasaet\n",
        "\n",
        "from ultralytics import YOLO\n",
        "import torch, os, sys, requests\n",
        "\n",
        "# Change the model dir depending on the training for example:\n",
        "# On the first train it will create a train folder.\n",
        "# Then on the second run you change the MODELS-DIR Path to train2/weights to use\n",
        "# the previous trained best.pt as that is the model\n",
        "\n",
        "MODELS_DIR  = \"/content/YoloV12-Object-Detection-Project/runs/completed-training\"\n",
        "MODEL_PATH  = os.path.join(MODELS_DIR, \"yolo12s.pt\")\n",
        "DATA_YAML   = \"/content/YoloV12-Object-Detection-Project/yaml/data.yaml\"\n",
        "RUNS_DIR    = \"/content/YoloV12-Object-Detection-Project/runs/completed-training\"\n",
        "\n",
        "print(\"Model path:\", MODEL_PATH)\n",
        "print(\"Data yaml :\", DATA_YAML)\n",
        "\n",
        "# Device selection\n",
        "device = \"cuda\" if torch.cuda.is_available() else \"cpu\"\n",
        "print(\"Using device:\", device)\n",
        "\n",
        "# Load your local weights explicitly\n",
        "model = YOLO(MODEL_PATH)\n",
        "\n",
        "# Training configs\n",
        "results = model.train(\n",
        "    data=DATA_YAML, # refers to our dataset yaml file\n",
        "    epochs=350, #start at 150, 250, 350 (no need to go higher if results becomes same)\n",
        "    imgsz=960,  #start at 640, 960, 1024 (no need to go higher if results becomes same)\n",
        "    batch=-1,   #-1 is auto batch (leave yolo to decide how many batches to create based on system)\n",
        "    workers=2,  #2 is optimal for google colab using T4 GPU, ,experiment to see which is best (before it gives errors)\n",
        "    device=device, #uses CUDA\n",
        "    pretrained=False, #prevents using COCO (as its a custom dataset)\n",
        "    amp=False,        #set to false for automatic mapping matrix (can turn on, experiment however you like)\n",
        "    project=RUNS_DIR, #saves to custom runs directory MODEL_DIR\n",
        "    name=\"train\"      #names the folders train\n",
        ")\n",
        "\n",
        "print(\"Save dir:\", results.save_dir)"
      ]
    },
    {
      "cell_type": "markdown",
      "id": "68932001",
      "metadata": {
        "id": "68932001"
      },
      "source": [
        "## Step 6 — ✅ Test latest trained model\n",
        "\n",
        "This script will grab the latest trained runs, uses its best.pt to validate its correct file and do a test on the model to see if detection is happening correctly, looking for accuracy, bounding boxes and efficiency"
      ]
    },
    {
      "cell_type": "code",
      "source": [
        "#@title Test latest trained model\n",
        "\n",
        "import glob\n",
        "import os\n",
        "from ultralytics import YOLO\n",
        "\n",
        "RUNS_DIR = \"/content/YoloV12-Object-Detection-Project/runs/completed-training\"\n",
        "DATA_YAML = \"/content/YoloV12-Object-Detection-Project/yaml/data.yaml\"\n",
        "\n",
        "RESULTS_DIR = \"/content/YoloV12-Object-Detection-Project/runs/test-results\"\n",
        "os.makedirs(RESULTS_DIR, exist_ok=True)\n",
        "\n",
        "MODEL_TEST_DIR = \"/content/YoloV12-Object-Detection-Project/runs/test-models\"\n",
        "os.makedirs(MODEL_TEST_DIR, exist_ok=True)\n",
        "\n",
        "# Find the most recent training run\n",
        "latest_run = max(glob.glob(os.path.join(RUNS_DIR, \"*\")), key=os.path.getmtime)\n",
        "weights_path = os.path.join(latest_run, \"weights\", \"best.pt\")\n",
        "\n",
        "print(f\"Validating latest run: {latest_run}\")\n",
        "print(f\"Using weights: {weights_path}\")\n",
        "\n",
        "# Load the best model from that run\n",
        "model = YOLO(weights_path)\n",
        "\n",
        "# Run validation on the TEST split\n",
        "metrics = model.val(\n",
        "    data=DATA_YAML,\n",
        "    split=\"test\",\n",
        "    imgsz=640,   # you can test 640, 960, 1024 (until you see no further improvement)\n",
        "    batch=8,     # number of images 8 = 8 images inside yolo automatic batch\n",
        "    project=MODEL_TEST_DIR,\n",
        "    name=os.path.basename(latest_run),\n",
        "    exist_ok=True\n",
        ")\n",
        "\n",
        "# Build results filename based on run name (e.g., train2 -> train2_metrics.txt)\n",
        "run_name = os.path.basename(latest_run)\n",
        "save_path = os.path.join(RESULTS_DIR, f\"{run_name}_metrics.txt\")\n",
        "\n",
        "# Save metrics to file (use results_dict property)\n",
        "with open(save_path, \"w\") as f:\n",
        "    f.write(f\"Validation results for run: {run_name}\\n\")\n",
        "    f.write(f\"Weights: {weights_path}\\n\\n\")\n",
        "    for k, v in metrics.results_dict.items():\n",
        "        f.write(f\"{k}: {v}\\n\")\n",
        "\n",
        "print(f\"Metrics saved to {save_path}\")\n",
        "print(f\"Ultralytics validation outputs saved to {os.path.join(MODEL_TEST_DIR, run_name)}\")\n"
      ],
      "metadata": {
        "id": "gx7GByuFmlER"
      },
      "id": "gx7GByuFmlER",
      "execution_count": null,
      "outputs": []
    },
    {
      "cell_type": "markdown",
      "id": "b9401666",
      "metadata": {
        "id": "b9401666"
      },
      "source": [
        "## Step 7 — 🔮 Inference Testing For Images And Videos\n",
        "\n",
        "\n",
        "After completeing a model test from step 6, we will move onto testing with new images and videos. Which can be sourced online anywhere. This way testing will be more accurate as its new data that the model hasn't been trained/tested on."
      ]
    },
    {
      "cell_type": "code",
      "source": [
        "#@title Create folder to store test images and videos **(skip this step if you already have these created previously from running the script)**\n",
        "\n",
        "import os\n",
        "from google.colab import files\n",
        "import shutil\n",
        "\n",
        "base_dir = \"/content/YoloV12-Object-Detection-Project/testing\"\n",
        "\n",
        "# Uncomment the one you are not using\n",
        "folder_name = \"koala\"\n",
        "folder_name = \"kangaroo\"\n",
        "\n",
        "target_path = os.path.join(base_dir, folder_name)\n",
        "\n",
        "os.makedirs(target_path, exist_ok=True)\n",
        "print(f\"Folder created at: {target_path}\")\n",
        "\n",
        "# Prompt user to upload files\n",
        "print(\"Please upload your image or video files:\")\n",
        "uploaded = files.upload()\n",
        "\n",
        "# Move uploaded files into the target folder\n",
        "for filename in uploaded.keys():\n",
        "    shutil.move(filename, os.path.join(target_path, filename))\n",
        "    print(f\"Moved '{filename}' to '{target_path}'.\")\n",
        "\n",
        "print(\"All files uploaded and saved in your custom directory!\")"
      ],
      "metadata": {
        "id": "vT8fCvumrYoT"
      },
      "id": "vT8fCvumrYoT",
      "execution_count": null,
      "outputs": []
    },
    {
      "cell_type": "code",
      "execution_count": null,
      "id": "9ea59f46",
      "metadata": {
        "id": "9ea59f46"
      },
      "outputs": [],
      "source": [
        "#@title Inference Testing with Images & Videos\n",
        "import glob\n",
        "import os\n",
        "from ultralytics import YOLO\n",
        "\n",
        "# Path where YOLO saves runs\n",
        "RUNS_DIR = \"/content/YoloV12-Object-Detection-Project/runs/completed-training\"\n",
        "\n",
        "# Uncomment the one you are not using\n",
        "TEST_DIR = \"/content/YoloV12-Object-Detection-Project/testing/koala\"\n",
        "TEST_DIR = \"/content/YoloV12-Object-Detection-Project/testing/kangaroo\"\n",
        "\n",
        "# Base path for inference results\n",
        "OUTPUT_BASE = os.path.join(TEST_DIR, \"inference_results\")\n",
        "os.makedirs(OUTPUT_BASE, exist_ok=True)\n",
        "\n",
        "# Find the next available inference folder (inference1, inference2, ...)\n",
        "i = 1\n",
        "while os.path.exists(os.path.join(OUTPUT_BASE, f\"inference{i}\")):\n",
        "    i += 1\n",
        "OUTPUT_DIR = os.path.join(OUTPUT_BASE, f\"inference{i}\")\n",
        "\n",
        "# Find the most recent training run\n",
        "latest_run = max(glob.glob(os.path.join(RUNS_DIR, \"*\")), key=os.path.getmtime)\n",
        "weights_path = os.path.join(latest_run, \"weights\", \"best.pt\")\n",
        "\n",
        "print(f\"Running inference with weights: {weights_path}\")\n",
        "print(f\"Testing folder: {TEST_DIR}\")\n",
        "print(f\"Results will be saved to: {OUTPUT_DIR}\")\n",
        "\n",
        "# Load model\n",
        "model = YOLO(weights_path)\n",
        "\n",
        "# Run inference (images + videos in same folder)\n",
        "results = model.predict(\n",
        "    source=TEST_DIR,   # folder containing both images & videos\n",
        "    imgsz=960,         # change between 540 960 1024 or more\n",
        "    conf=0.70,         # confidence higher means only detect if 0.70 or above (experiment to find the best conf)\n",
        "    save=True,\n",
        "    project=OUTPUT_DIR,\n",
        "    name=\"\",           # ensures results are saved directly in OUTPUT_DIR\n",
        "    exist_ok=True\n",
        ")\n",
        "\n",
        "print(f\"Inference complete. Results saved to: {OUTPUT_DIR}\")\n",
        "\n"
      ]
    },
    {
      "cell_type": "markdown",
      "source": [
        "# Step 8 - 🪣 Choosing Final Model for Deployment\n",
        "\n",
        "This step will go through every single trained model/validation results, and finds/selects the best model from the metrics provided. This way with the Final Model selected will go through final inference testing then Step 9 to be exported and used in real world deployment."
      ],
      "metadata": {
        "id": "qx8cT_NBzOj4"
      },
      "id": "qx8cT_NBzOj4"
    },
    {
      "cell_type": "code",
      "execution_count": null,
      "id": "4f59c93e",
      "metadata": {
        "id": "4f59c93e"
      },
      "outputs": [],
      "source": [
        "#@title Find the best final model to use from test results (saves as a csv)\n",
        "\n",
        "import glob\n",
        "import os\n",
        "import pandas as pd\n",
        "\n",
        "# Paths\n",
        "TEST_RESULTS_DIR = \"/content/YoloV12-Object-Detection-Project/runs/test-results\"\n",
        "RESULTS_DIR = \"/content/YoloV12-Object-Detection-Project/runs/model-results\"\n",
        "os.makedirs(RESULTS_DIR, exist_ok=True)\n",
        "\n",
        "# Output CSV path\n",
        "CSV_PATH = os.path.join(RESULTS_DIR, \"model_comparison.csv\")\n",
        "\n",
        "rows = []\n",
        "\n",
        "for path in sorted(glob.glob(os.path.join(TEST_RESULTS_DIR, \"*_metrics.txt\"))):\n",
        "    with open(path, \"r\") as f:\n",
        "        lines = [ln.strip() for ln in f.readlines()]\n",
        "\n",
        "    # Defaults\n",
        "    run = \"\"\n",
        "    weights = \"\"\n",
        "    precision = recall = map50 = map5095 = fitness = None\n",
        "\n",
        "    for ln in lines:\n",
        "        if ln.startswith(\"Validation results for run:\"):\n",
        "            run = ln.split(\"Validation results for run:\", 1)[1].strip()\n",
        "        elif ln.startswith(\"Weights:\"):\n",
        "            weights = ln.split(\"Weights:\", 1)[1].strip()\n",
        "        elif ln.startswith(\"metrics/precision(B):\"):\n",
        "            precision = float(ln.split(\":\", 1)[1].strip())\n",
        "        elif ln.startswith(\"metrics/recall(B):\"):\n",
        "            recall = float(ln.split(\":\", 1)[1].strip())\n",
        "        elif ln.startswith(\"metrics/mAP50(B):\"):\n",
        "            map50 = float(ln.split(\":\", 1)[1].strip())\n",
        "        elif ln.startswith(\"metrics/mAP50-95(B):\"):\n",
        "            map5095 = float(ln.split(\":\", 1)[1].strip())\n",
        "        elif ln.startswith(\"fitness:\"):\n",
        "            fitness = float(ln.split(\":\", 1)[1].strip())\n",
        "\n",
        "    if run and weights:\n",
        "        rows.append({\n",
        "            \"run\": run,\n",
        "            \"weights\": weights,\n",
        "            \"mAP50\": map50,\n",
        "            \"mAP50-95\": map5095,\n",
        "            \"precision\": precision,\n",
        "            \"recall\": recall,\n",
        "            \"fitness\": fitness,\n",
        "            \"metrics_file\": os.path.basename(path),\n",
        "        })\n",
        "\n",
        "# Save results to CSV\n",
        "df = pd.DataFrame(rows)\n",
        "df.to_csv(CSV_PATH, index=False)\n",
        "\n",
        "print(f\"\\nModel comparison saved to {CSV_PATH}\")\n",
        "print(df)\n",
        "\n",
        "\n"
      ]
    },
    {
      "cell_type": "code",
      "source": [
        "#@title Compares Model Metrics in CSV and chooses the best model\n",
        "\n",
        "import os\n",
        "import shutil\n",
        "import pandas as pd\n",
        "\n",
        "#@title Compares Model Metrics in CSV and chooses the best model\n",
        "\n",
        "import os\n",
        "import shutil\n",
        "import pandas as pd\n",
        "\n",
        "# ==== CONFIG ====\n",
        "CSV_PATH = \"/content/YoloV12-Object-Detection-Project/runs/model-results/model_comparison.csv\"\n",
        "MODELS_DIR = \"/content/YoloV12-Object-Detection-Project/models\"\n",
        "SUMMARY_DIR = \"/content/YoloV12-Object-Detection-Project/runs/model-results\"  # fixed path\n",
        "\n",
        "os.makedirs(MODELS_DIR, exist_ok=True)\n",
        "os.makedirs(SUMMARY_DIR, exist_ok=True)\n",
        "\n",
        "# loads csv file\n",
        "df = pd.read_csv(CSV_PATH)\n",
        "\n",
        "# checks csv columns (correct data)\n",
        "required_cols = {\"run\", \"weights\", \"mAP50-95\", \"mAP50\", \"precision\", \"recall\"}\n",
        "missing = required_cols - set(df.columns)\n",
        "if missing:\n",
        "    raise ValueError(f\"CSV missing required columns: {missing}\")\n",
        "\n",
        "for c in [\"mAP50-95\", \"mAP50\", \"precision\", \"recall\"]:\n",
        "    df[c] = pd.to_numeric(df[c], errors=\"coerce\")\n",
        "\n",
        "# picks best model from csv data metrics\n",
        "best_row = df.sort_values(\n",
        "    by=[\"mAP50-95\", \"mAP50\", \"precision\"],  # tie-break if needed\n",
        "    ascending=[False, False, False]\n",
        ").iloc[0]\n",
        "\n",
        "run = best_row[\"run\"]\n",
        "src = best_row[\"weights\"]\n",
        "\n",
        "if not isinstance(src, str) or not os.path.exists(src):\n",
        "    raise FileNotFoundError(f\"best.pt not found: {src}\")\n",
        "\n",
        "# Destination name: trainxxx_best.pt\n",
        "base_name = f\"{run}_best.pt\"\n",
        "dst = os.path.join(MODELS_DIR, base_name)\n",
        "\n",
        "print(f\"   Best model found: {run}\")\n",
        "print(f\"   mAP50-95: {best_row['mAP50-95']:.4f} | mAP50: {best_row['mAP50']:.4f} | precision: {best_row['precision']:.4f}\")\n",
        "print(f\"   Copying: {src} -> {dst}\")\n",
        "\n",
        "shutil.copy2(src, dst)\n",
        "\n",
        "# Output and saving summary selection\n",
        "summary_csv = os.path.join(SUMMARY_DIR, \"best_model_summary.csv\")\n",
        "best_row.to_frame().T.to_csv(summary_csv, index=False)\n",
        "print(f\"\\n Summary written to: {summary_csv}\")\n",
        "\n",
        "\n"
      ],
      "metadata": {
        "id": "6Z8CLSip2NHr"
      },
      "id": "6Z8CLSip2NHr",
      "execution_count": null,
      "outputs": []
    },
    {
      "cell_type": "markdown",
      "id": "c7247239",
      "metadata": {
        "id": "c7247239"
      },
      "source": [
        "## Step 9 — ♟️ Exporting"
      ]
    },
    {
      "cell_type": "markdown",
      "source": [
        "Export the full respository incase you run into errors, you think the runtime is about to expire or you just want to save it to run later on."
      ],
      "metadata": {
        "id": "vZOLpRM1HUST"
      },
      "id": "vZOLpRM1HUST"
    },
    {
      "cell_type": "code",
      "source": [
        "#@title Export Repository as Zip File\n",
        "import shutil\n",
        "\n",
        "shutil.make_archive('YoloV12-Object-Detection-Project', 'zip', '/content/YoloV12-Object-Detection-Project')\n",
        "\n",
        "from google.colab import files\n",
        "files.download('YoloV12-Object-Detection-Project.zip')"
      ],
      "metadata": {
        "id": "1Xpk9w4J8kCe",
        "colab": {
          "base_uri": "https://localhost:8080/",
          "height": 17
        },
        "outputId": "4b89d19e-26d0-4f2f-854b-d6b3158a5657"
      },
      "id": "1Xpk9w4J8kCe",
      "execution_count": null,
      "outputs": [
        {
          "output_type": "display_data",
          "data": {
            "text/plain": [
              "<IPython.core.display.Javascript object>"
            ],
            "application/javascript": [
              "\n",
              "    async function download(id, filename, size) {\n",
              "      if (!google.colab.kernel.accessAllowed) {\n",
              "        return;\n",
              "      }\n",
              "      const div = document.createElement('div');\n",
              "      const label = document.createElement('label');\n",
              "      label.textContent = `Downloading \"${filename}\": `;\n",
              "      div.appendChild(label);\n",
              "      const progress = document.createElement('progress');\n",
              "      progress.max = size;\n",
              "      div.appendChild(progress);\n",
              "      document.body.appendChild(div);\n",
              "\n",
              "      const buffers = [];\n",
              "      let downloaded = 0;\n",
              "\n",
              "      const channel = await google.colab.kernel.comms.open(id);\n",
              "      // Send a message to notify the kernel that we're ready.\n",
              "      channel.send({})\n",
              "\n",
              "      for await (const message of channel.messages) {\n",
              "        // Send a message to notify the kernel that we're ready.\n",
              "        channel.send({})\n",
              "        if (message.buffers) {\n",
              "          for (const buffer of message.buffers) {\n",
              "            buffers.push(buffer);\n",
              "            downloaded += buffer.byteLength;\n",
              "            progress.value = downloaded;\n",
              "          }\n",
              "        }\n",
              "      }\n",
              "      const blob = new Blob(buffers, {type: 'application/binary'});\n",
              "      const a = document.createElement('a');\n",
              "      a.href = window.URL.createObjectURL(blob);\n",
              "      a.download = filename;\n",
              "      div.appendChild(a);\n",
              "      a.click();\n",
              "      div.remove();\n",
              "    }\n",
              "  "
            ]
          },
          "metadata": {}
        },
        {
          "output_type": "display_data",
          "data": {
            "text/plain": [
              "<IPython.core.display.Javascript object>"
            ],
            "application/javascript": [
              "download(\"download_25e77aef-d02c-4461-91cb-4c87dc058356\", \"runs.zip\", 12039411)"
            ]
          },
          "metadata": {}
        },
        {
          "output_type": "display_data",
          "data": {
            "text/plain": [
              "<IPython.core.display.Javascript object>"
            ],
            "application/javascript": [
              "\n",
              "    async function download(id, filename, size) {\n",
              "      if (!google.colab.kernel.accessAllowed) {\n",
              "        return;\n",
              "      }\n",
              "      const div = document.createElement('div');\n",
              "      const label = document.createElement('label');\n",
              "      label.textContent = `Downloading \"${filename}\": `;\n",
              "      div.appendChild(label);\n",
              "      const progress = document.createElement('progress');\n",
              "      progress.max = size;\n",
              "      div.appendChild(progress);\n",
              "      document.body.appendChild(div);\n",
              "\n",
              "      const buffers = [];\n",
              "      let downloaded = 0;\n",
              "\n",
              "      const channel = await google.colab.kernel.comms.open(id);\n",
              "      // Send a message to notify the kernel that we're ready.\n",
              "      channel.send({})\n",
              "\n",
              "      for await (const message of channel.messages) {\n",
              "        // Send a message to notify the kernel that we're ready.\n",
              "        channel.send({})\n",
              "        if (message.buffers) {\n",
              "          for (const buffer of message.buffers) {\n",
              "            buffers.push(buffer);\n",
              "            downloaded += buffer.byteLength;\n",
              "            progress.value = downloaded;\n",
              "          }\n",
              "        }\n",
              "      }\n",
              "      const blob = new Blob(buffers, {type: 'application/binary'});\n",
              "      const a = document.createElement('a');\n",
              "      a.href = window.URL.createObjectURL(blob);\n",
              "      a.download = filename;\n",
              "      div.appendChild(a);\n",
              "      a.click();\n",
              "      div.remove();\n",
              "    }\n",
              "  "
            ]
          },
          "metadata": {}
        },
        {
          "output_type": "display_data",
          "data": {
            "text/plain": [
              "<IPython.core.display.Javascript object>"
            ],
            "application/javascript": [
              "download(\"download_06db9bac-4b86-4384-beec-60c93570d047\", \"YoloV12-Object-Detection-Project.zip\", 2391211653)"
            ]
          },
          "metadata": {}
        }
      ]
    },
    {
      "cell_type": "code",
      "execution_count": null,
      "id": "f67cee5d",
      "metadata": {
        "id": "f67cee5d"
      },
      "outputs": [],
      "source": [
        "## This will become a script to export as a ready model file"
      ]
    },
    {
      "cell_type": "markdown",
      "id": "00b4bd4d",
      "metadata": {
        "id": "00b4bd4d"
      },
      "source": [
        "## Troubleshooting"
      ]
    },
    {
      "cell_type": "markdown",
      "id": "35f7a69d",
      "metadata": {
        "id": "35f7a69d"
      },
      "source": [
        "\n",
        "- **Weights YAML missing:** ensure `models/yolo12s.pt` and `yaml/data.yaml` exist in the repo or update paths.\n",
        "- **Val fails:** Train first; then rerun the validate cell.\n",
        "- **Poor metrics:** Add more data, correct labels, tune `imgsz`/`batch`/`epochs`.\n"
      ]
    }
  ],
  "metadata": {
    "colab": {
      "provenance": [],
      "machine_shape": "hm",
      "include_colab_link": true
    },
    "language_info": {
      "name": "python"
    },
    "kernelspec": {
      "name": "python3",
      "display_name": "Python 3"
    }
  },
  "nbformat": 4,
  "nbformat_minor": 5
}